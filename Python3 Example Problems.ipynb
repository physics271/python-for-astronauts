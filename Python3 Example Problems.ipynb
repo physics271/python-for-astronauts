{
 "cells": [
  {
   "cell_type": "markdown",
   "metadata": {},
   "source": [
    "# Small Python 3 Tutorial\n",
    "\n",
    "\n",
    "You are a young, aspiring astronaut who hopes to journey through the stars one day. However, NASA requires a complex understanding of programming before they would be willing to hire you. As such, you have decided to begin your journey to learn programming at a young age, and have decided to start with Python 3. \n",
    "\n",
    "\n",
    "At any point in this tutorial, I would recommend you try and play around with what you have learned. See what you can learn and do with your own ideas."
   ]
  },
  {
   "cell_type": "markdown",
   "metadata": {},
   "source": [
    "## Variables, data types, and printing\n",
    "\n",
    "Python has many different types of data. These range from lists that store multiple elements, to Booleans that are either true or false. Below is a list of some common data types:\n",
    "\n",
    "<ul>\n",
    "    <li>Booleans: Either True or False.</li>\n",
    "    <li>Integers: Numbers without any decimals.</li>\n",
    "    <li>Floating-point: Numbers with decimals.</li>\n",
    "    <li>Complex: Numbers with a real and imaginary component.</li>\n",
    "    <li>String: Ordered collections of characters. Usually contained within quotation marks.</li>\n",
    "    <li>List: Ordered collections of elements which may contain duplicates. Denoted with square brackets.</li>\n",
    "    <li>Tuple: Ordered collections of elements which may contain duplicates. The difference between tuples and lists is that tuples cannot be changed while lists can be modified after creation. Denoted with parentheses.</li>\n",
    "    <li>Set: Unordered collections of elements without duplicates. Denoted with curly braces.</li>\n",
    "    <li>Dictionary: Unordered collections of elements without duplicates. A dictionary is a way to relate different elements. </li> \n",
    "</ul>\n",
    "\n",
    "Variables are a way to reference one of the above data types without having to type it multiple times. They work just like variables in math: a variable is a symbol meant to represent some other quantity. You can create a variable in Python using a single =. One of the nice things about python is, when you create a variable, you do not need to specify the type. For example, typing x=2 will create a variable x which represents the integer 2 without issue.\n",
    "\n",
    "Finally, Python has an important built-in function called print(). It does what you think it would do, it prints whatever is in the parentheses to the output. It allows you to get outputs from your programs, making it very important."
   ]
  },
  {
   "cell_type": "code",
   "execution_count": 181,
   "metadata": {},
   "outputs": [
    {
     "name": "stdout",
     "output_type": "stream",
     "text": [
      "-12.0\n"
     ]
    }
   ],
   "source": [
    "x=True #Python has the built-in keywords True and False. These must be capitalized. \n",
    "\n",
    "an_integer=4 #Typing a number on its own is considered an integer by Python\n",
    "\n",
    "a_float=-3. #Typing a decimal will make any number a floating-point number\n",
    "\n",
    "a_float=an_integer*a_float \n",
    "#Here we redefine a_float to be the product of itself and an_integer (* represents multiplication)\n",
    "#Note: The new number is a floating-point number (i.e floating-point numbers take precedent over integers)\n",
    "\n",
    "print(a_float)\n",
    "\n",
    "a_complex=1.243-2.5j #A j is used to represent the imaginary component in Python\n",
    "\n"
   ]
  },
  {
   "cell_type": "code",
   "execution_count": 139,
   "metadata": {},
   "outputs": [
    {
     "name": "stdout",
     "output_type": "stream",
     "text": [
      "This is a string. Notice how there's a single quote in it (the apostrophe).\n",
      "\n",
      "Multi-\n",
      "Line\n",
      "String\n",
      "\n",
      "\n"
     ]
    }
   ],
   "source": [
    "a_string=\"This is a string. Notice how there's a single quote in it (the apostrophe).\"\n",
    "#There are multiple ways to denote a string in Python. The two most common ways are to use '' or \"\" around the quote.\n",
    "#The problem arises if you wanted to use one of these characters in your string.\n",
    "#One way to resolve this is to use the other character to define your string. For example:\n",
    "\n",
    "\"There's multiple ways to define a string\"    'Here are \"two\" ways'\n",
    "\n",
    "#Another way to denote strings is to use triple quotes (\"\"\" \"\"\"). These types of strings can also span multiple lines.\n",
    "\n",
    "string2=\"\"\"\n",
    "Multi-\n",
    "Line\n",
    "String\n",
    "\n",
    "\"\"\"\n",
    "print(a_string)\n",
    "print(string2)"
   ]
  },
  {
   "cell_type": "code",
   "execution_count": 140,
   "metadata": {
    "scrolled": true
   },
   "outputs": [
    {
     "name": "stdout",
     "output_type": "stream",
     "text": [
      "['This', 'is', 'a', 'list.', 123, ['List in a list']]\n",
      "a\n"
     ]
    }
   ],
   "source": [
    "\n",
    "a_list=[\"This\",\"is\",\"a\",\"list.\",123,[\"List in a list\"]] #A list is denoted with [...] and comma separating elements.\n",
    "                                                        #Lists can contain other data types (including more lists)\n",
    "\n",
    "print(a_list) #Notice that lists maintain their order\n",
    "print(a_list[2]) #To get an element of a list, you add square brackets after the variable.\n",
    "                 #Note: Python counts from 0. Therefore, element 3 has the index 2\n"
   ]
  },
  {
   "cell_type": "code",
   "execution_count": 141,
   "metadata": {},
   "outputs": [
    {
     "name": "stdout",
     "output_type": "stream",
     "text": [
      "(1, 3, 'hi', 3)\n"
     ]
    }
   ],
   "source": [
    "a_tuple=(1,3,\"hi\",3)#A tuple is denoted with (...) and commas. \n",
    "                    #Like a list, it maintains order and can contain duplicates.\n",
    "\n",
    "print(a_tuple)\n"
   ]
  },
  {
   "cell_type": "code",
   "execution_count": 142,
   "metadata": {},
   "outputs": [
    {
     "name": "stdout",
     "output_type": "stream",
     "text": [
      "<class 'set'>\n"
     ]
    }
   ],
   "source": [
    "a_set={1,3,2,'string','string'} #A set is denoted with {...} and commas.\n",
    "                                #Sets do not retain any ordering or duplicate elements. \n",
    "\n",
    "print(set) #Notice how the set is different when printed\n"
   ]
  },
  {
   "cell_type": "code",
   "execution_count": 143,
   "metadata": {},
   "outputs": [
    {
     "name": "stdout",
     "output_type": "stream",
     "text": [
      "[1, 2]\n"
     ]
    }
   ],
   "source": [
    "a_dict={1:'hi','bye':0,\"list\":[1,2]} #A dictionary is denoted with {...} and commas. \n",
    "                                     #Furthermore, it has colons separating key-value pairs.\n",
    "                                     #The element left of a colon is a key, while the other element is a value.\n",
    "                                     #A dictionary allows you to get a value using its corresponding key.\n",
    "        \n",
    "print(a_dict[\"list\"]) #Notice the syntax for getting a value is the same as a list,\n",
    "                      #just with a key instead of an integer"
   ]
  },
  {
   "cell_type": "markdown",
   "metadata": {},
   "source": [
    "#### Problem 1\n",
    "\n",
    "See if you can find a way to have Python print the phrase \"Hello World\" 20 times. See if you can do it while only typing \"Hello World\" once.\n",
    "\n",
    "#### Problem 2\n",
    "\n",
    "Create a dictionary where every integer between 1 and 5 is the key to a different type of data structure. For example, 1 might be the key of a string, while 2 might be the key of a list, etc..."
   ]
  },
  {
   "cell_type": "markdown",
   "metadata": {},
   "source": [
    "## Some built in operations/functions\n",
    "\n",
    "Python has built in functions that can help modify or gain information about instances of data."
   ]
  },
  {
   "cell_type": "markdown",
   "metadata": {},
   "source": [
    "###### Numbers\n",
    "\n",
    "Built in to Python are all of the standard arithmetic operations.\n",
    "\n",
    "Addition is denoted with a + <br>\n",
    "Subtraction is denoted with a - <br>\n",
    "Multiplication is denoted with a * <br>\n",
    "Division is denoted with a / <br>\n",
    "Exponentiation is denoted with a ** <br>\n",
    "Modulo (an operation that gives the remainder of a division) is denoted with %\n",
    "\n",
    "Parentheses can be used to control the order of operations. Otherwise, Python uses the typical order of operations.\n",
    "\n",
    "To convert anything reasonable to a number, use int() or float()."
   ]
  },
  {
   "cell_type": "code",
   "execution_count": 144,
   "metadata": {},
   "outputs": [
    {
     "data": {
      "text/plain": [
       "7"
      ]
     },
     "execution_count": 144,
     "metadata": {},
     "output_type": "execute_result"
    }
   ],
   "source": [
    "3+4"
   ]
  },
  {
   "cell_type": "code",
   "execution_count": 145,
   "metadata": {},
   "outputs": [
    {
     "data": {
      "text/plain": [
       "-1.5625"
      ]
     },
     "execution_count": 145,
     "metadata": {},
     "output_type": "execute_result"
    }
   ],
   "source": [
    "-5/3.2"
   ]
  },
  {
   "cell_type": "code",
   "execution_count": 146,
   "metadata": {},
   "outputs": [
    {
     "data": {
      "text/plain": [
       "0"
      ]
     },
     "execution_count": 146,
     "metadata": {},
     "output_type": "execute_result"
    }
   ],
   "source": [
    "(2**4)%2"
   ]
  },
  {
   "cell_type": "code",
   "execution_count": 147,
   "metadata": {},
   "outputs": [
    {
     "data": {
      "text/plain": [
       "1"
      ]
     },
     "execution_count": 147,
     "metadata": {},
     "output_type": "execute_result"
    }
   ],
   "source": [
    "2**(4%2)"
   ]
  },
  {
   "cell_type": "code",
   "execution_count": 148,
   "metadata": {},
   "outputs": [
    {
     "data": {
      "text/plain": [
       "7"
      ]
     },
     "execution_count": 148,
     "metadata": {},
     "output_type": "execute_result"
    }
   ],
   "source": [
    "1+2*3"
   ]
  },
  {
   "cell_type": "code",
   "execution_count": 149,
   "metadata": {},
   "outputs": [
    {
     "data": {
      "text/plain": [
       "24"
      ]
     },
     "execution_count": 149,
     "metadata": {},
     "output_type": "execute_result"
    }
   ],
   "source": [
    "x=\"24\"\n",
    "\n",
    "int(x)"
   ]
  },
  {
   "cell_type": "code",
   "execution_count": 150,
   "metadata": {},
   "outputs": [
    {
     "data": {
      "text/plain": [
       "2.0"
      ]
     },
     "execution_count": 150,
     "metadata": {},
     "output_type": "execute_result"
    }
   ],
   "source": [
    "x=2\n",
    "\n",
    "float(x)"
   ]
  },
  {
   "cell_type": "markdown",
   "metadata": {},
   "source": [
    "##### Strings\n",
    "\n",
    "To convert something to a string, use str().\n",
    "\n",
    "Strings also support some of the arithmetic operations of numbers. For example:"
   ]
  },
  {
   "cell_type": "code",
   "execution_count": 151,
   "metadata": {},
   "outputs": [
    {
     "data": {
      "text/plain": [
       "'120'"
      ]
     },
     "execution_count": 151,
     "metadata": {},
     "output_type": "execute_result"
    }
   ],
   "source": [
    "x=24*5\n",
    "\n",
    "str(x)"
   ]
  },
  {
   "cell_type": "code",
   "execution_count": 152,
   "metadata": {},
   "outputs": [
    {
     "data": {
      "text/plain": [
       "'2Hello'"
      ]
     },
     "execution_count": 152,
     "metadata": {},
     "output_type": "execute_result"
    }
   ],
   "source": [
    "\"2\"+\"Hello\""
   ]
  },
  {
   "cell_type": "code",
   "execution_count": 153,
   "metadata": {},
   "outputs": [
    {
     "data": {
      "text/plain": [
       "'Hi Hi Hi Hi Hi Hi Hi Hi Hi Hi Hi Hi Hi Hi Hi Hi Hi Hi Hi Hi '"
      ]
     },
     "execution_count": 153,
     "metadata": {},
     "output_type": "execute_result"
    }
   ],
   "source": [
    "\"Hi \"*20"
   ]
  },
  {
   "cell_type": "markdown",
   "metadata": {},
   "source": [
    "#### Problem 3\n",
    "\n",
    "Play around with the above operations and try and guess what they do. Experiment to determine how string operations interact with other data types. \n",
    "\n",
    "For example, what will 2+\"2\" do?"
   ]
  },
  {
   "cell_type": "markdown",
   "metadata": {},
   "source": [
    "##### Lists"
   ]
  },
  {
   "cell_type": "code",
   "execution_count": 154,
   "metadata": {
    "scrolled": false
   },
   "outputs": [
    {
     "name": "stdout",
     "output_type": "stream",
     "text": [
      "[1, 2, 3, 4]\n",
      "0\n",
      "4\n",
      "[1, 2, 3]\n",
      "[-4, 1, 2, 3, 4, 4]\n",
      "[4, 4, 3, 2, 1, -4]\n",
      "[4, 4, 'hi', 3, 2, 1, -4]\n"
     ]
    }
   ],
   "source": [
    "list1=[1,2,3]\n",
    "\n",
    "list1.append(4) #.append(element) adds an element to the end of a list\n",
    "\n",
    "print(list1)\n",
    "\n",
    "print(list1.index(1)) #.index(element) returns the index of the first instance of an element \n",
    "                      #(Remember: Python counts from 0)\n",
    "\n",
    "print(len(list1)) #len() returns the length of a list (Note: The syntax for this function is different\n",
    "                  #.len() is incorrect. The difference is a result of the fact that lists are a class with methods,\n",
    "                  #while len() is a general function. Don't worry if you did not understand that.)\n",
    "        \n",
    "list1.remove(4) #.remove(element) removes an element\n",
    "\n",
    "print(list1)\n",
    "\n",
    "list1=[4,4,2,3,1,-4]\n",
    "\n",
    "list1.sort() #.sort() sorts a list. .sort() can sort list numerically (low to high) or alphabetically (a-z)\n",
    "\n",
    "print(list1)\n",
    "\n",
    "list1.sort(reverse=True) #a list can also be sorted in reverse\n",
    "\n",
    "print(list1)\n",
    "\n",
    "list1.insert(2,\"hi\") #.insert(index,element) inserts a element at the given index \n",
    "\n",
    "print(list1)"
   ]
  },
  {
   "cell_type": "markdown",
   "metadata": {},
   "source": [
    "#### Problem 4\n",
    "<ol>\n",
    "    <li>Make an empty list</li>\n",
    "    <li>Append 5 elements to it</li>\n",
    "    <li>Print the element in position 3</li>\n",
    "    <li>Remove that element</li>\n",
    "    <li>Sort the list</li>\n",
    "    <li>Put the element you removed back in the list in the 3rd position</li>\n",
    "</ol>"
   ]
  },
  {
   "cell_type": "markdown",
   "metadata": {},
   "source": [
    "## Input\n",
    "\n",
    "To get input, you can use the built in function input(). Python will treat the input as a string. For example:"
   ]
  },
  {
   "cell_type": "code",
   "execution_count": 155,
   "metadata": {},
   "outputs": [
    {
     "name": "stdout",
     "output_type": "stream",
     "text": [
      "Input a number0\n",
      "2\n"
     ]
    }
   ],
   "source": [
    "x=input(\"Input a number\")\n",
    "\n",
    "x=int(x)\n",
    "\n",
    "print(x+2)"
   ]
  },
  {
   "cell_type": "markdown",
   "metadata": {},
   "source": [
    "## If/Else\n",
    "\n",
    "If/Else statements allow you to run a group of code <b> if </b> a condition is true, while running other code otherwise.\n",
    "\n",
    "Firstly, what are conditions?\n",
    "\n",
    "### Conditions\n",
    "\n",
    "Conditions in Python are anything of the Boolean type (True or False). Some operations that give Boolean values are listed below."
   ]
  },
  {
   "cell_type": "code",
   "execution_count": 156,
   "metadata": {},
   "outputs": [
    {
     "data": {
      "text/plain": [
       "True"
      ]
     },
     "execution_count": 156,
     "metadata": {},
     "output_type": "execute_result"
    }
   ],
   "source": [
    "x=2\n",
    "\n",
    "2==x #The double equal sign operator compares two values and checks if they are equal\n",
    "     #Note: To assign a variable, use one equal sign"
   ]
  },
  {
   "cell_type": "code",
   "execution_count": 157,
   "metadata": {},
   "outputs": [
    {
     "data": {
      "text/plain": [
       "True"
      ]
     },
     "execution_count": 157,
     "metadata": {},
     "output_type": "execute_result"
    }
   ],
   "source": [
    "1 != 2 #An exclamation point can be used to represent not. As such, != means not equal to."
   ]
  },
  {
   "cell_type": "code",
   "execution_count": 158,
   "metadata": {},
   "outputs": [
    {
     "data": {
      "text/plain": [
       "False"
      ]
     },
     "execution_count": 158,
     "metadata": {},
     "output_type": "execute_result"
    }
   ],
   "source": [
    "2<1 #Less than"
   ]
  },
  {
   "cell_type": "code",
   "execution_count": 159,
   "metadata": {},
   "outputs": [
    {
     "data": {
      "text/plain": [
       "True"
      ]
     },
     "execution_count": 159,
     "metadata": {},
     "output_type": "execute_result"
    }
   ],
   "source": [
    "5>-5 #Greater than"
   ]
  },
  {
   "cell_type": "code",
   "execution_count": 160,
   "metadata": {},
   "outputs": [
    {
     "data": {
      "text/plain": [
       "True"
      ]
     },
     "execution_count": 160,
     "metadata": {},
     "output_type": "execute_result"
    }
   ],
   "source": [
    "0<=0 #Less than or equal to"
   ]
  },
  {
   "cell_type": "code",
   "execution_count": 161,
   "metadata": {},
   "outputs": [
    {
     "data": {
      "text/plain": [
       "True"
      ]
     },
     "execution_count": 161,
     "metadata": {},
     "output_type": "execute_result"
    }
   ],
   "source": [
    "4>=3 #Greater than or equal to"
   ]
  },
  {
   "cell_type": "code",
   "execution_count": 162,
   "metadata": {},
   "outputs": [
    {
     "data": {
      "text/plain": [
       "False"
      ]
     },
     "execution_count": 162,
     "metadata": {},
     "output_type": "execute_result"
    }
   ],
   "source": [
    "not True #The keyword not also negates values. It is more general than an exclamation point"
   ]
  },
  {
   "cell_type": "code",
   "execution_count": 163,
   "metadata": {},
   "outputs": [
    {
     "data": {
      "text/plain": [
       "True"
      ]
     },
     "execution_count": 163,
     "metadata": {},
     "output_type": "execute_result"
    }
   ],
   "source": [
    "1==2 or 2==2 #or will return true if at least one of its two inputs is true"
   ]
  },
  {
   "cell_type": "code",
   "execution_count": 164,
   "metadata": {},
   "outputs": [
    {
     "data": {
      "text/plain": [
       "True"
      ]
     },
     "execution_count": 164,
     "metadata": {},
     "output_type": "execute_result"
    }
   ],
   "source": [
    "1<2 and 0!=45 #and will return true if and only if both of its inputs are true"
   ]
  },
  {
   "cell_type": "code",
   "execution_count": 165,
   "metadata": {},
   "outputs": [
    {
     "data": {
      "text/plain": [
       "False"
      ]
     },
     "execution_count": 165,
     "metadata": {},
     "output_type": "execute_result"
    }
   ],
   "source": [
    "5 in {1,5} and 3 in [1,5,6] #in will check if an element is in an object with multiple elements"
   ]
  },
  {
   "cell_type": "markdown",
   "metadata": {},
   "source": [
    "### If / Elif / Else\n",
    "\n",
    "##### If\n",
    "An <b>if</b> statement runs if its condition is true\n",
    "\n",
    "##### Elif\n",
    "An <b>elif</b> (short for else if) statement runs if the preceding condition was false, but its own condition is true.\n",
    "\n",
    "##### Else\n",
    "An <b>else</b> statement runs if every preceding condition was false."
   ]
  },
  {
   "cell_type": "code",
   "execution_count": 166,
   "metadata": {},
   "outputs": [
    {
     "name": "stdout",
     "output_type": "stream",
     "text": [
      "Hi\n",
      "x=4\n"
     ]
    }
   ],
   "source": [
    "if True:        #The syntax for an if statement is if condition: <= This colon is very important\n",
    "    print(\"Hi\") #In Python, every piece of code that should be run in the if statement is indented once\n",
    "    \n",
    "x=4\n",
    "\n",
    "if x>=3:\n",
    "    if x>=5:          #You can put if statements within if statements\n",
    "        print(\"x>=5\") #The indentation combines so that the code is still one indent more than the if statement\n",
    "        \n",
    "    elif x==3:\n",
    "        print(\"x=3\")\n",
    "        \n",
    "    else:\n",
    "        print(\"x=4\")"
   ]
  },
  {
   "cell_type": "markdown",
   "metadata": {},
   "source": [
    "#### Problem 5\n",
    "\n",
    "Try and make a simple 4 function calculator that asks for two numbers and an operator and prints an output."
   ]
  },
  {
   "cell_type": "code",
   "execution_count": 167,
   "metadata": {},
   "outputs": [
    {
     "name": "stdout",
     "output_type": "stream",
     "text": [
      "First Number0\n",
      "Second Number0\n",
      "Operator0\n",
      "Output\n"
     ]
    }
   ],
   "source": [
    "a=int(input(\"First Number\"))\n",
    "b=int(input(\"Second Number\"))\n",
    "c=input(\"Operator\")\n",
    "\n",
    "#Your code here\n",
    "\n",
    "print(\"Output\")"
   ]
  },
  {
   "cell_type": "markdown",
   "metadata": {},
   "source": [
    "## Loops\n",
    "\n",
    "Loops are a way to repeatedly do a group of commands. A while loop will do a group of commands <b> while </b> a certain condition is true. On the other hand, a for loop will do a group of commands <b> for </b> every element in a list.\n",
    "\n",
    "### While Loop\n",
    "\n",
    "As mentioned, a while loop will run a group of code <b>while</b> a condition is true. It is important to make sure you do not make an infinite loop (a loop that will run without end)."
   ]
  },
  {
   "cell_type": "code",
   "execution_count": 168,
   "metadata": {},
   "outputs": [
    {
     "name": "stdout",
     "output_type": "stream",
     "text": [
      "2.5\n"
     ]
    }
   ],
   "source": [
    "x=10\n",
    "\n",
    "while x>3:  #Again, this colon is important and denotes the start of the code you want to loop over\n",
    "    x=x-x/2\n",
    "\n",
    "print(x)"
   ]
  },
  {
   "cell_type": "markdown",
   "metadata": {},
   "source": [
    "#### Problem 6\n",
    "\n",
    "Try and make a program that asks for an input without the letter \"e\", and will continue to ask until given a valid input."
   ]
  },
  {
   "cell_type": "markdown",
   "metadata": {},
   "source": [
    "while (condition):\n",
    "    x=input(\"No letter e\")\n",
    "    \n",
    "print(x)"
   ]
  },
  {
   "cell_type": "markdown",
   "metadata": {},
   "source": [
    "### For Loop\n",
    "\n",
    "As mentioned, a for loop will iterate through a list and run a group of code <b> for</b> every element of the list.\n",
    "\n",
    "A useful function is the range(start,end) function, which will make a list of every integer from start to end (this list includes the start but not the end). If only one input is given, the start is assumed to be 0."
   ]
  },
  {
   "cell_type": "code",
   "execution_count": 169,
   "metadata": {},
   "outputs": [
    {
     "name": "stdout",
     "output_type": "stream",
     "text": [
      "\n",
      "hi \n",
      "hi hi \n",
      "hi hi hi \n",
      "hi hi hi hi \n"
     ]
    }
   ],
   "source": [
    "for number in range(5): #The syntax of a for loop is as follows: for (variable) in (list):\n",
    "    print(\"hi \"*number) #The variable takes on the value of an element of the supplied list after every\n",
    "                        #iteration. In this case, it is first equal to 0, then 1, then 2, etc..."
   ]
  },
  {
   "cell_type": "markdown",
   "metadata": {},
   "source": [
    "#### Problem 7\n",
    "Redo problem 1 in 2 lines of code.\n",
    "\n",
    "#### Problem 8\n",
    "Make a list of the first 20 Fibonacci numbers using for loops."
   ]
  },
  {
   "cell_type": "markdown",
   "metadata": {},
   "source": [
    "As mentioned, a for loop can iterate over any list, not just lists generated by range()."
   ]
  },
  {
   "cell_type": "code",
   "execution_count": 170,
   "metadata": {},
   "outputs": [
    {
     "name": "stdout",
     "output_type": "stream",
     "text": [
      "17\n"
     ]
    }
   ],
   "source": [
    "x=[4,5,2,1,5]\n",
    "\n",
    "total=0\n",
    "\n",
    "for number in x:\n",
    "    total+=number\n",
    "    \n",
    "print(total) #This small program gives the sum of a list"
   ]
  },
  {
   "cell_type": "markdown",
   "metadata": {},
   "source": [
    "#### Problem 8\n",
    "\n",
    "Make a for loop that gives you the maximum of a list of numbers"
   ]
  },
  {
   "cell_type": "markdown",
   "metadata": {},
   "source": [
    "x=[2,5,3,2,5,7,5,2,12,4]\n",
    "\n",
    "for number in x:\n",
    "    #Your code here\n",
    "    \n",
    "print(\"Maximum\")"
   ]
  },
  {
   "cell_type": "code",
   "execution_count": 171,
   "metadata": {},
   "outputs": [
    {
     "name": "stdout",
     "output_type": "stream",
     "text": [
      "h\n",
      "e\n",
      "l\n",
      "l\n",
      "o\n"
     ]
    }
   ],
   "source": [
    "for letter in \"hello\": #Python can also iterate over a string (it treats it as a list of characters)\n",
    "    print(letter)"
   ]
  },
  {
   "cell_type": "markdown",
   "metadata": {},
   "source": [
    "### For loops are while loops\n",
    "\n",
    "Any for loop can be made using a while loop. While this is a silly idea in most cases, as for loops are much nicer than their equivalent while loop, this is still a fun bit of trivia."
   ]
  },
  {
   "cell_type": "code",
   "execution_count": 172,
   "metadata": {},
   "outputs": [
    {
     "name": "stdout",
     "output_type": "stream",
     "text": [
      "\n",
      "hi \n",
      "hi hi \n",
      "hi hi hi \n",
      "hi hi hi hi \n",
      "hi hi hi hi hi \n",
      "hi hi hi hi hi hi \n",
      "hi hi hi hi hi hi hi \n",
      "hi hi hi hi hi hi hi hi \n",
      "hi hi hi hi hi hi hi hi hi \n"
     ]
    }
   ],
   "source": [
    "i=0\n",
    "\n",
    "while i<10:\n",
    "    print(\"hi \"* i)\n",
    "    i+=1"
   ]
  },
  {
   "cell_type": "markdown",
   "metadata": {},
   "source": [
    "#### Problem 10\n",
    "Redo Problem 8 with a while loop. Make sure it works in general."
   ]
  },
  {
   "cell_type": "markdown",
   "metadata": {},
   "source": [
    "### List Comprehension\n",
    "\n",
    "List comprehension is a nice syntax that allows you to do for loops in a list. \n",
    "\n",
    "Let's say we wanted to make a list where every element was twice the element of another list. We could use a for loop like this:"
   ]
  },
  {
   "cell_type": "code",
   "execution_count": 173,
   "metadata": {},
   "outputs": [
    {
     "name": "stdout",
     "output_type": "stream",
     "text": [
      "[2, 8, 4, 10, 84, 4, 10, 10, 14, 24, 4, 26]\n"
     ]
    }
   ],
   "source": [
    "x=[1,4,2,5,42,2,5,5,7,12,2,13]\n",
    "\n",
    "x2=[]\n",
    "\n",
    "for number in x:\n",
    "    x2.append(2*number)\n",
    "    \n",
    "print(x2)"
   ]
  },
  {
   "cell_type": "markdown",
   "metadata": {},
   "source": [
    "With list comprehension, the for loop part of this code can be compressed to one line."
   ]
  },
  {
   "cell_type": "code",
   "execution_count": 174,
   "metadata": {},
   "outputs": [
    {
     "name": "stdout",
     "output_type": "stream",
     "text": [
      "[2, 8, 4, 10, 84, 4, 10, 10, 14, 24, 4, 26]\n"
     ]
    }
   ],
   "source": [
    "x=[1,4,2,5,42,2,5,5,7,12,2,13]\n",
    "\n",
    "x2=[2*number for number in x]\n",
    "\n",
    "print(x2)"
   ]
  },
  {
   "cell_type": "markdown",
   "metadata": {},
   "source": [
    "The syntax is [(operation) for (variable) in (list)]. You can also introduce conditions into this. For example, say we only wanted to double even numbers.\n",
    "\n",
    "With a for loop we get:"
   ]
  },
  {
   "cell_type": "code",
   "execution_count": 175,
   "metadata": {},
   "outputs": [
    {
     "name": "stdout",
     "output_type": "stream",
     "text": [
      "[8, 4, 84, 4, 24, 4]\n"
     ]
    }
   ],
   "source": [
    "x=[1,4,2,5,42,2,5,5,7,12,2,13]\n",
    "\n",
    "x2=[]\n",
    "\n",
    "for number in x:\n",
    "    if number%2==0:\n",
    "        x2.append(2*number)\n",
    "    \n",
    "print(x2)"
   ]
  },
  {
   "cell_type": "markdown",
   "metadata": {},
   "source": [
    "With list comprehension we get:"
   ]
  },
  {
   "cell_type": "code",
   "execution_count": 176,
   "metadata": {
    "scrolled": true
   },
   "outputs": [
    {
     "name": "stdout",
     "output_type": "stream",
     "text": [
      "[8, 4, 84, 4, 24, 4]\n"
     ]
    }
   ],
   "source": [
    "x=[1,4,2,5,42,2,5,5,7,12,2,13]\n",
    "\n",
    "x2=[2*number for number in x if number%2==0]\n",
    "\n",
    "print(x2)"
   ]
  },
  {
   "cell_type": "markdown",
   "metadata": {},
   "source": [
    "As you can see, you add the condition to the end of the list comprehension."
   ]
  },
  {
   "cell_type": "markdown",
   "metadata": {},
   "source": [
    "### Loop Keywords\n",
    "\n",
    "Break is a keyword that will stop a loop and move on to the remainder of your program.\n",
    "\n",
    "Continue is a keyword that will skip to the next iteration of a loop."
   ]
  },
  {
   "cell_type": "code",
   "execution_count": 177,
   "metadata": {},
   "outputs": [
    {
     "name": "stdout",
     "output_type": "stream",
     "text": [
      "This will only print once\n",
      "No infinite loops\n"
     ]
    }
   ],
   "source": [
    "while True:\n",
    "    print(\"This will only print once\")\n",
    "    break\n",
    "\n",
    "print(\"No infinite loops\")"
   ]
  },
  {
   "cell_type": "code",
   "execution_count": 178,
   "metadata": {},
   "outputs": [
    {
     "name": "stdout",
     "output_type": "stream",
     "text": [
      "1 is not a multiple of 3\n",
      "6 is a multiple of 3\n",
      "4 is not a multiple of 3\n",
      "3 is a multiple of 3\n",
      "5 is not a multiple of 3\n"
     ]
    }
   ],
   "source": [
    "for x in [1,6,4,3,5]:\n",
    "    if x%3==0:\n",
    "        print(str(x)+\" is a multiple of 3\")\n",
    "        continue\n",
    "        \n",
    "    print(str(x)+\" is not a multiple of 3\")"
   ]
  },
  {
   "cell_type": "markdown",
   "metadata": {},
   "source": [
    "#### Problem 11\n",
    "\n",
    "Take the calculator function you made before and allow it to do multiple operations until the user stops it."
   ]
  },
  {
   "cell_type": "markdown",
   "metadata": {},
   "source": [
    "\n",
    "while True:\n",
    "    #calculator program\n",
    "    YN=input(\"Stop? (y/n)\")\n",
    "   \n",
    "    if (condition):\n",
    "        #code\n",
    "        \n"
   ]
  },
  {
   "cell_type": "markdown",
   "metadata": {},
   "source": [
    "## Functions\n",
    "\n",
    "Functions are a way for you to do a specific set of instructions and allow you to simplify repeated code.\n",
    "\n",
    "Let's say you needed some way to get the reciprocal of even numbers and the negative double of odd numbers. With functions, this could be accomplished like this:"
   ]
  },
  {
   "cell_type": "code",
   "execution_count": 179,
   "metadata": {},
   "outputs": [
    {
     "name": "stdout",
     "output_type": "stream",
     "text": [
      "0.5\n",
      "-6\n"
     ]
    }
   ],
   "source": [
    "def my_function(number):    #The syntax is: def name(inputs):\n",
    "    if number%2==0:\n",
    "        return(1/number)    #return() is used to indicate what the function should return (if anything)\n",
    "    elif number%2==1:       #A function terminates (finishes running) if something is returned\n",
    "        return(-2*number)\n",
    "    \n",
    "print(my_function(2))\n",
    "print(my_function(3))"
   ]
  },
  {
   "cell_type": "code",
   "execution_count": 180,
   "metadata": {},
   "outputs": [
    {
     "name": "stdout",
     "output_type": "stream",
     "text": [
      "6\n"
     ]
    }
   ],
   "source": [
    "def my_function(number,number2):\n",
    "    if number2==0:\n",
    "        total=0\n",
    "    else:\n",
    "        total=0\n",
    "        for x in range(number2):\n",
    "            total+=number\n",
    "    return(total)\n",
    "\n",
    "print(my_function(2,3))  #This function performs multiplication. It is mostly for fun, not very practical"
   ]
  },
  {
   "cell_type": "markdown",
   "metadata": {},
   "source": [
    "#### Problem 12\n",
    "Make a function that takes in a string and a list of letters. The function should replace every letter in the string that is in the list with an _\n",
    "\n",
    "For example, the input \"apple\" and [\"a\",\"l\"] should return \"\\_pp\\_e\"\n",
    "\n",
    "##### Bonus extension: \n",
    "Instead of taking in a list of letters, your function should take in a dictionary. Instead of replacing every letter in the dictionary with a \\_, the replacement should be specified in the dictionary.\n",
    "\n",
    "For example, the input \"apple\" and {\"a\":\"\\_\", \"l\":0} should return \"\\_pp0e\""
   ]
  },
  {
   "cell_type": "markdown",
   "metadata": {},
   "source": [
    "def change_letters(string,list):\n",
    "    #your code here\n",
    "    return(modified_string)"
   ]
  },
  {
   "cell_type": "markdown",
   "metadata": {},
   "source": [
    "## Summarizing Problems\n",
    "\n",
    "For the problems listed below, you should try and use everything you have learned. You do not have to do all of these problems, but you might try to do a few.\n",
    "\n",
    "<ol start=\"13\">\n",
    "           <li>Simulate a game of tic-tac-toe</li>\n",
    "           <li>Simulate a game of blackjack</li>\n",
    "           <li>Simulate a game of checkers</li>\n",
    "           <li>Make a program that generates the first n primes</li>\n",
    "           <li>Make a program capable of recognizing poker hands</li>\n",
    "    <li>Make a program that can do arithmetic with fractions (do not use decimals)</li>\n",
    "    <li>Take any (simple) probability question you want. Try and simulate it in Python.\n",
    "        <ul>\n",
    "            <li>You will have to use the random module to get random numbers in Python. A module is basically some code someone else made that you can use. To get access to the random module, put the line \"import random\" at the beginning of your code. The random module has great documentation (instructions) online, so its commands can be found there.</li>\n",
    "        </ul></li>\n",
    "    <li>Go onto the website <a href=\"https://projecteuler.net/\">Project Euler</a> and try and solve some of the problems (click the Archives button in the top right)</li>\n",
    "</ol>"
   ]
  }
 ],
 "metadata": {
  "celltoolbar": "Raw Cell Format",
  "kernelspec": {
   "display_name": "Python 3",
   "language": "python",
   "name": "python3"
  },
  "language_info": {
   "codemirror_mode": {
    "name": "ipython",
    "version": 3
   },
   "file_extension": ".py",
   "mimetype": "text/x-python",
   "name": "python",
   "nbconvert_exporter": "python",
   "pygments_lexer": "ipython3",
   "version": "3.7.0"
  }
 },
 "nbformat": 4,
 "nbformat_minor": 2
}
